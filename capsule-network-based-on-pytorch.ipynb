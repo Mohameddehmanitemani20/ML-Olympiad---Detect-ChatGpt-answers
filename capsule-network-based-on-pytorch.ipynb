{
 "cells": [
  {
   "cell_type": "code",
   "execution_count": 1,
   "id": "6ca2767d",
   "metadata": {
    "_cell_guid": "b1076dfc-b9ad-4769-8c92-a6c4dae69d19",
    "_uuid": "8f2839f25d086af736a60e9eeb907d3b93b6e0e5",
    "execution": {
     "iopub.execute_input": "2023-02-17T02:22:55.882983Z",
     "iopub.status.busy": "2023-02-17T02:22:55.882510Z",
     "iopub.status.idle": "2023-02-17T02:22:55.895893Z",
     "shell.execute_reply": "2023-02-17T02:22:55.894590Z"
    },
    "papermill": {
     "duration": 0.029024,
     "end_time": "2023-02-17T02:22:55.898466",
     "exception": false,
     "start_time": "2023-02-17T02:22:55.869442",
     "status": "completed"
    },
    "tags": []
   },
   "outputs": [
    {
     "name": "stdout",
     "output_type": "stream",
     "text": [
      "/kaggle/input/ml-olympiad-detect-chatgpt-answers/sample_submission.csv\n",
      "/kaggle/input/ml-olympiad-detect-chatgpt-answers/train.csv\n",
      "/kaggle/input/ml-olympiad-detect-chatgpt-answers/test.csv\n"
     ]
    }
   ],
   "source": [
    "# This Python 3 environment comes with many helpful analytics libraries installed\n",
    "# It is defined by the kaggle/python Docker image: https://github.com/kaggle/docker-python\n",
    "# For example, here's several helpful packages to load\n",
    "\n",
    "import numpy as np # linear algebra\n",
    "import pandas as pd # data processing, CSV file I/O (e.g. pd.read_csv)\n",
    "\n",
    "# Input data files are available in the read-only \"../input/\" directory\n",
    "# For example, running this (by clicking run or pressing Shift+Enter) will list all files under the input directory\n",
    "\n",
    "import os\n",
    "for dirname, _, filenames in os.walk('/kaggle/input'):\n",
    "    for filename in filenames:\n",
    "        print(os.path.join(dirname, filename))\n",
    "\n",
    "# You can write up to 20GB to the current directory (/kaggle/working/) that gets preserved as output when you create a version using \"Save & Run All\" \n",
    "# You can also write temporary files to /kaggle/temp/, but they won't be saved outside of the current session"
   ]
  },
  {
   "cell_type": "markdown",
   "id": "944638c2",
   "metadata": {
    "papermill": {
     "duration": 0.007156,
     "end_time": "2023-02-17T02:22:55.913418",
     "exception": false,
     "start_time": "2023-02-17T02:22:55.906262",
     "status": "completed"
    },
    "tags": []
   },
   "source": [
    ">**Hi all, this is the model design for chatgpt detection using capsule network. Although capsule networks are more used for image processing, they also have good performance in the task of text local information extraction**"
   ]
  },
  {
   "cell_type": "markdown",
   "id": "2e27e52f",
   "metadata": {
    "papermill": {
     "duration": 0.006898,
     "end_time": "2023-02-17T02:22:55.927690",
     "exception": false,
     "start_time": "2023-02-17T02:22:55.920792",
     "status": "completed"
    },
    "tags": []
   },
   "source": [
    "# **First,we preproessing the data**"
   ]
  },
  {
   "cell_type": "code",
   "execution_count": 2,
   "id": "fa88665f",
   "metadata": {
    "execution": {
     "iopub.execute_input": "2023-02-17T02:22:55.944249Z",
     "iopub.status.busy": "2023-02-17T02:22:55.943864Z",
     "iopub.status.idle": "2023-02-17T02:22:55.987229Z",
     "shell.execute_reply": "2023-02-17T02:22:55.986155Z"
    },
    "papermill": {
     "duration": 0.054543,
     "end_time": "2023-02-17T02:22:55.989664",
     "exception": false,
     "start_time": "2023-02-17T02:22:55.935121",
     "status": "completed"
    },
    "tags": []
   },
   "outputs": [],
   "source": [
    "train=pd.read_csv(\"/kaggle/input/ml-olympiad-detect-chatgpt-answers/train.csv\")\n",
    "train=train.dropna().reset_index()\n",
    "test=pd.read_csv(\"/kaggle/input/ml-olympiad-detect-chatgpt-answers/test.csv\")\n",
    "sub=pd.read_csv(\"/kaggle/input/ml-olympiad-detect-chatgpt-answers/sample_submission.csv\")"
   ]
  },
  {
   "cell_type": "code",
   "execution_count": 3,
   "id": "23110f03",
   "metadata": {
    "execution": {
     "iopub.execute_input": "2023-02-17T02:22:56.006051Z",
     "iopub.status.busy": "2023-02-17T02:22:56.005286Z",
     "iopub.status.idle": "2023-02-17T02:22:56.017707Z",
     "shell.execute_reply": "2023-02-17T02:22:56.016735Z"
    },
    "papermill": {
     "duration": 0.023112,
     "end_time": "2023-02-17T02:22:56.020162",
     "exception": false,
     "start_time": "2023-02-17T02:22:55.997050",
     "status": "completed"
    },
    "tags": []
   },
   "outputs": [],
   "source": [
    "train[\"text\"]=train[\"prompt\"]+train[\"answer\"]\n",
    "train=train[[\"text\",\"AI\"]]"
   ]
  },
  {
   "cell_type": "code",
   "execution_count": 4,
   "id": "a665dfcd",
   "metadata": {
    "execution": {
     "iopub.execute_input": "2023-02-17T02:22:56.037400Z",
     "iopub.status.busy": "2023-02-17T02:22:56.036980Z",
     "iopub.status.idle": "2023-02-17T02:22:56.043455Z",
     "shell.execute_reply": "2023-02-17T02:22:56.042425Z"
    },
    "papermill": {
     "duration": 0.017281,
     "end_time": "2023-02-17T02:22:56.045588",
     "exception": false,
     "start_time": "2023-02-17T02:22:56.028307",
     "status": "completed"
    },
    "tags": []
   },
   "outputs": [],
   "source": [
    "test[\"text\"]=test[\"prompt\"]+test[\"answer\"]\n",
    "test=test[\"text\"]"
   ]
  },
  {
   "cell_type": "code",
   "execution_count": 5,
   "id": "02f0fe6e",
   "metadata": {
    "execution": {
     "iopub.execute_input": "2023-02-17T02:22:56.062746Z",
     "iopub.status.busy": "2023-02-17T02:22:56.061593Z",
     "iopub.status.idle": "2023-02-17T02:22:56.176351Z",
     "shell.execute_reply": "2023-02-17T02:22:56.175428Z"
    },
    "papermill": {
     "duration": 0.125936,
     "end_time": "2023-02-17T02:22:56.179013",
     "exception": false,
     "start_time": "2023-02-17T02:22:56.053077",
     "status": "completed"
    },
    "tags": []
   },
   "outputs": [],
   "source": [
    "import re\n",
    "def removeHTML(x):\n",
    "    html=re.compile(r'<.*?>')\n",
    "    return html.sub(r'',x)\n",
    "import emoji\n",
    "def dataPreprocessing(x):    \n",
    "    x = x.lower()\n",
    "    x = removeHTML(x)\n",
    "    x = emoji.demojize(x, delimiters=(\" \", \" \"))\n",
    "    x = re.sub(\"@\\w+\", '',x) # removing mentions (@)\n",
    "    x = re.sub(\"'\\d+\", '',x)\n",
    "    x = re.sub(\"\\d+\", '',x)\n",
    "    x = re.sub(r\"[^\\w\\s]\", '',x) # to remove symbols\n",
    "    x = re.sub(\"http\\w+\", '',x)\n",
    "    x = re.sub(\"\\s[a-z]\\s\", '',x)\n",
    "    x = x.strip()\n",
    "    return x\n",
    "train_text=train[\"text\"].apply(lambda x: dataPreprocessing(x))"
   ]
  },
  {
   "cell_type": "code",
   "execution_count": 6,
   "id": "553c368a",
   "metadata": {
    "execution": {
     "iopub.execute_input": "2023-02-17T02:22:56.195545Z",
     "iopub.status.busy": "2023-02-17T02:22:56.194820Z",
     "iopub.status.idle": "2023-02-17T02:22:56.223477Z",
     "shell.execute_reply": "2023-02-17T02:22:56.222308Z"
    },
    "papermill": {
     "duration": 0.039331,
     "end_time": "2023-02-17T02:22:56.225678",
     "exception": false,
     "start_time": "2023-02-17T02:22:56.186347",
     "status": "completed"
    },
    "tags": []
   },
   "outputs": [],
   "source": [
    "test_text=test.apply(lambda x: dataPreprocessing(x))"
   ]
  },
  {
   "cell_type": "markdown",
   "id": "eb192c08",
   "metadata": {
    "papermill": {
     "duration": 0.007163,
     "end_time": "2023-02-17T02:22:56.240521",
     "exception": false,
     "start_time": "2023-02-17T02:22:56.233358",
     "status": "completed"
    },
    "tags": []
   },
   "source": [
    "# **Second,we import transformer to get the training vectors**"
   ]
  },
  {
   "cell_type": "code",
   "execution_count": 7,
   "id": "51220126",
   "metadata": {
    "execution": {
     "iopub.execute_input": "2023-02-17T02:22:56.257251Z",
     "iopub.status.busy": "2023-02-17T02:22:56.256869Z",
     "iopub.status.idle": "2023-02-17T02:22:58.032652Z",
     "shell.execute_reply": "2023-02-17T02:22:58.031812Z"
    },
    "papermill": {
     "duration": 1.787011,
     "end_time": "2023-02-17T02:22:58.035046",
     "exception": false,
     "start_time": "2023-02-17T02:22:56.248035",
     "status": "completed"
    },
    "tags": []
   },
   "outputs": [
    {
     "name": "stdout",
     "output_type": "stream",
     "text": [
      "False\n",
      "cpu\n"
     ]
    }
   ],
   "source": [
    "import torch\n",
    "device = torch.device(\"cuda:0\" if torch.cuda.is_available() else \"cpu\")\n",
    "print(torch.cuda.is_available())\n",
    "print(device)"
   ]
  },
  {
   "cell_type": "code",
   "execution_count": 8,
   "id": "5e26a1c2",
   "metadata": {
    "execution": {
     "iopub.execute_input": "2023-02-17T02:22:58.053061Z",
     "iopub.status.busy": "2023-02-17T02:22:58.051704Z",
     "iopub.status.idle": "2023-02-17T02:23:26.330917Z",
     "shell.execute_reply": "2023-02-17T02:23:26.329849Z"
    },
    "papermill": {
     "duration": 28.29056,
     "end_time": "2023-02-17T02:23:26.333421",
     "exception": false,
     "start_time": "2023-02-17T02:22:58.042861",
     "status": "completed"
    },
    "tags": []
   },
   "outputs": [
    {
     "data": {
      "application/vnd.jupyter.widget-view+json": {
       "model_id": "1dfd638b0f9140aa819777f53dd7bc68",
       "version_major": 2,
       "version_minor": 0
      },
      "text/plain": [
       "Downloading:   0%|          | 0.00/878k [00:00<?, ?B/s]"
      ]
     },
     "metadata": {},
     "output_type": "display_data"
    },
    {
     "data": {
      "application/vnd.jupyter.widget-view+json": {
       "model_id": "c8c663f5ea20456faca999388d9c11cd",
       "version_major": 2,
       "version_minor": 0
      },
      "text/plain": [
       "Downloading:   0%|          | 0.00/446k [00:00<?, ?B/s]"
      ]
     },
     "metadata": {},
     "output_type": "display_data"
    },
    {
     "data": {
      "application/vnd.jupyter.widget-view+json": {
       "model_id": "5c33dfa01bb84be1a72985ed8b371a1d",
       "version_major": 2,
       "version_minor": 0
      },
      "text/plain": [
       "Downloading:   0%|          | 0.00/481 [00:00<?, ?B/s]"
      ]
     },
     "metadata": {},
     "output_type": "display_data"
    },
    {
     "data": {
      "application/vnd.jupyter.widget-view+json": {
       "model_id": "cded2e1452ad4d359e84887e139e4852",
       "version_major": 2,
       "version_minor": 0
      },
      "text/plain": [
       "Downloading:   0%|          | 0.00/478M [00:00<?, ?B/s]"
      ]
     },
     "metadata": {},
     "output_type": "display_data"
    },
    {
     "name": "stderr",
     "output_type": "stream",
     "text": [
      "Some weights of the model checkpoint at roberta-base were not used when initializing RobertaModel: ['lm_head.layer_norm.bias', 'lm_head.dense.bias', 'lm_head.layer_norm.weight', 'lm_head.bias', 'lm_head.decoder.weight', 'lm_head.dense.weight']\n",
      "- This IS expected if you are initializing RobertaModel from the checkpoint of a model trained on another task or with another architecture (e.g. initializing a BertForSequenceClassification model from a BertForPreTraining model).\n",
      "- This IS NOT expected if you are initializing RobertaModel from the checkpoint of a model that you expect to be exactly identical (initializing a BertForSequenceClassification model from a BertForSequenceClassification model).\n"
     ]
    }
   ],
   "source": [
    "from torch import nn\n",
    "from transformers import RobertaTokenizer, RobertaModel\n",
    "from transformers import AdamW\n",
    "from tqdm import tqdm\n",
    "class BertClassificationModel(nn.Module):\n",
    "    def __init__(self,hidden_size=768,num_class=2): \n",
    "        super(BertClassificationModel, self).__init__()\n",
    "        model_name = \"roberta-base\"\n",
    "        self.tokenizer = RobertaTokenizer.from_pretrained(pretrained_model_name_or_path=model_name)\n",
    "        self.bert = RobertaModel.from_pretrained(pretrained_model_name_or_path=model_name)\n",
    "\n",
    "        for p in self.bert.parameters(): \n",
    "                p.requires_grad = False\n",
    "        self.fc = nn.Linear(hidden_size, num_class)\n",
    "\n",
    "    def forward(self, batch_sentences): \n",
    "        sentences_tokenizer = self.tokenizer(batch_sentences,\n",
    "                                             truncation=True,\n",
    "                                             padding=True,\n",
    "                                             max_length=512,\n",
    "                                             add_special_tokens=True)\n",
    "        input_ids=torch.tensor(sentences_tokenizer['input_ids']).to(device) \n",
    "        attention_mask=torch.tensor(sentences_tokenizer['attention_mask']).to(device) \n",
    "        bert_out=self.bert(input_ids=input_ids,attention_mask=attention_mask) \n",
    "\n",
    "        last_hidden_state =bert_out[0].to(device) \n",
    "        bert_cls_hidden_state=last_hidden_state[:,0,:].to(device) \n",
    "        return bert_cls_hidden_state\n",
    "model=BertClassificationModel()\n",
    "model=model.to(device)"
   ]
  },
  {
   "cell_type": "code",
   "execution_count": 9,
   "id": "74bbe790",
   "metadata": {
    "execution": {
     "iopub.execute_input": "2023-02-17T02:23:26.352243Z",
     "iopub.status.busy": "2023-02-17T02:23:26.351496Z",
     "iopub.status.idle": "2023-02-17T02:24:48.529371Z",
     "shell.execute_reply": "2023-02-17T02:24:48.527707Z"
    },
    "papermill": {
     "duration": 82.191131,
     "end_time": "2023-02-17T02:24:48.533086",
     "exception": false,
     "start_time": "2023-02-17T02:23:26.341955",
     "status": "completed"
    },
    "tags": []
   },
   "outputs": [
    {
     "name": "stderr",
     "output_type": "stream",
     "text": [
      "100%|██████████| 746/746 [01:22<00:00,  9.08it/s]\n"
     ]
    }
   ],
   "source": [
    "xtrain=[]\n",
    "for i in tqdm(train_text):\n",
    "    xtrain.append(model([i]).cpu().detach().numpy())\n",
    "xtrain=np.array(xtrain).reshape(-1,768)  \n",
    "del train_text"
   ]
  },
  {
   "cell_type": "code",
   "execution_count": 10,
   "id": "1e78eae8",
   "metadata": {
    "execution": {
     "iopub.execute_input": "2023-02-17T02:24:48.613437Z",
     "iopub.status.busy": "2023-02-17T02:24:48.612594Z",
     "iopub.status.idle": "2023-02-17T02:25:14.932451Z",
     "shell.execute_reply": "2023-02-17T02:25:14.931360Z"
    },
    "papermill": {
     "duration": 26.356211,
     "end_time": "2023-02-17T02:25:14.935144",
     "exception": false,
     "start_time": "2023-02-17T02:24:48.578933",
     "status": "completed"
    },
    "tags": []
   },
   "outputs": [
    {
     "name": "stderr",
     "output_type": "stream",
     "text": [
      "100%|██████████| 249/249 [00:26<00:00,  9.47it/s]\n"
     ]
    }
   ],
   "source": [
    "xtest=[]\n",
    "for i in tqdm(test_text):\n",
    "    xtest.append(model([i]).cpu().detach().numpy())\n",
    "xtest=np.array(xtest).reshape(-1,768)\n",
    "del test_text"
   ]
  },
  {
   "cell_type": "code",
   "execution_count": 11,
   "id": "f748fd33",
   "metadata": {
    "execution": {
     "iopub.execute_input": "2023-02-17T02:25:15.018917Z",
     "iopub.status.busy": "2023-02-17T02:25:15.018513Z",
     "iopub.status.idle": "2023-02-17T02:25:15.984400Z",
     "shell.execute_reply": "2023-02-17T02:25:15.982477Z"
    },
    "papermill": {
     "duration": 1.010742,
     "end_time": "2023-02-17T02:25:15.986870",
     "exception": false,
     "start_time": "2023-02-17T02:25:14.976128",
     "status": "completed"
    },
    "tags": []
   },
   "outputs": [
    {
     "data": {
      "text/plain": [
       "<seaborn.axisgrid.FacetGrid at 0x7fad7607f590>"
      ]
     },
     "execution_count": 11,
     "metadata": {},
     "output_type": "execute_result"
    },
    {
     "data": {
      "image/png": "[encoded data removed]",
      "text/plain": [
       "<Figure size 500x500 with 1 Axes>"
      ]
     },
     "metadata": {},
     "output_type": "display_data"
    }
   ],
   "source": [
    "ytrain=train[\"AI\"].values\n",
    "import seaborn as sns\n",
    "sns.displot(ytrain)"
   ]
  },
  {
   "cell_type": "markdown",
   "id": "97863701",
   "metadata": {
    "papermill": {
     "duration": 0.041045,
     "end_time": "2023-02-17T02:25:16.070008",
     "exception": false,
     "start_time": "2023-02-17T02:25:16.028963",
     "status": "completed"
    },
    "tags": []
   },
   "source": [
    "# **And now,we can establish the capsule network as follows**"
   ]
  },
  {
   "cell_type": "code",
   "execution_count": 12,
   "id": "d27809d2",
   "metadata": {
    "execution": {
     "iopub.execute_input": "2023-02-17T02:25:16.156636Z",
     "iopub.status.busy": "2023-02-17T02:25:16.155955Z",
     "iopub.status.idle": "2023-02-17T02:25:16.176630Z",
     "shell.execute_reply": "2023-02-17T02:25:16.175760Z"
    },
    "papermill": {
     "duration": 0.067774,
     "end_time": "2023-02-17T02:25:16.179087",
     "exception": false,
     "start_time": "2023-02-17T02:25:16.111313",
     "status": "completed"
    },
    "tags": []
   },
   "outputs": [],
   "source": [
    "import torch\n",
    "from torch import nn\n",
    "device = torch.device('cuda' if torch.cuda.is_available() else 'cpu')\n",
    "def squash(x, dim=-1):\n",
    "    squared_norm = (x ** 2).sum(dim=dim, keepdim=True)\n",
    "    scale = squared_norm / (1 + squared_norm)\n",
    "    scale=torch.tanh(squared_norm.sqrt())\n",
    "    return scale * x / (squared_norm.sqrt() + 1e-8)\n",
    "\n",
    "class PrimaryCaps1(nn.Module):\n",
    "    def __init__(self, num_conv_units, in_channels, out_channels, kernel_size, stride):\n",
    "        super(PrimaryCaps1, self).__init__()\n",
    "        self.conv = nn.Conv2d(in_channels=in_channels,\n",
    "                              out_channels=out_channels * num_conv_units,\n",
    "                              kernel_size=kernel_size,\n",
    "                              stride=stride)\n",
    "        self.out_channels = out_channels\n",
    "\n",
    "    def forward(self, x):\n",
    "        out = self.conv(x)\n",
    "        batch_size = out.shape[0]\n",
    "        return squash(out.contiguous().view(batch_size, -1, self.out_channels), dim=-1)\n",
    "\n",
    "\n",
    "class DigitCaps1(nn.Module):\n",
    "    def __init__(self, in_dim, in_caps, out_caps, out_dim, num_routing):\n",
    "        super(DigitCaps1, self).__init__()\n",
    "        self.in_dim = in_dim\n",
    "        self.in_caps = in_caps\n",
    "        self.out_caps = out_caps\n",
    "        self.out_dim = out_dim\n",
    "        self.num_routing = num_routing\n",
    "        self.device = device\n",
    "        self.W = nn.Parameter(0.01 * torch.randn(1, out_caps, in_caps, out_dim, in_dim),\n",
    "                              requires_grad=True)\n",
    "\n",
    "\n",
    "    def forward(self, x):\n",
    "        batch_size = x.size(0)\n",
    "        x = x.unsqueeze(1).unsqueeze(4)\n",
    "        u_hat = torch.matmul(self.W, x) \n",
    "        u_hat = u_hat.squeeze(-1) \n",
    "        temp_u_hat = u_hat.detach()\n",
    "        b = torch.zeros(batch_size, self.out_caps, self.in_caps, 1).to(self.device)\n",
    "        for route_iter in range(self.num_routing - 1):\n",
    "            c = b.softmax(dim=1)\n",
    "            s = (c * temp_u_hat).sum(dim=2)\n",
    "            v = squash(s)\n",
    "            uv = torch.matmul(temp_u_hat, v.unsqueeze(-1))\n",
    "            b += uv\n",
    "        c = b.softmax(dim=1)\n",
    "        s = (c * u_hat).sum(dim=2)\n",
    "        v = squash(s)\n",
    "\n",
    "        return v\n",
    "class CapsNet1(nn.Module):\n",
    "    def __init__(self):\n",
    "        super(CapsNet1, self).__init__()\n",
    "\n",
    "        self.conv = nn.Conv2d(2, 256, 9)\n",
    "        self.relu = nn.ReLU(inplace=True)\n",
    "\n",
    "        self.primary_caps = PrimaryCaps1(num_conv_units=32,\n",
    "                                        in_channels=256,\n",
    "                                        out_channels=8,\n",
    "                                        kernel_size=8,\n",
    "                                        stride=2)\n",
    "\n",
    "        self.digit_caps = DigitCaps1(in_dim=8,\n",
    "                                    in_caps=160,\n",
    "                                    out_caps=2,\n",
    "                                    out_dim=16,\n",
    "                                    num_routing=3)\n",
    "\n",
    "        self.decoder = nn.Sequential(\n",
    "            nn.Linear(16 * 2, 512),\n",
    "            nn.ReLU(inplace=True),\n",
    "            nn.Linear(512, 1024),\n",
    "            nn.ReLU(inplace=True),\n",
    "            nn.Linear(1024, 768),\n",
    "            nn.Softmax())\n",
    "\n",
    "    def forward(self, x):\n",
    "        #x=x.cuda()\n",
    "        out = self.relu(self.conv(x))\n",
    "        out = self.primary_caps(out)\n",
    "        out = self.digit_caps(out)\n",
    "        logits = torch.norm(out, dim=-1)\n",
    "        return logits"
   ]
  },
  {
   "cell_type": "code",
   "execution_count": 13,
   "id": "e25fc68f",
   "metadata": {
    "execution": {
     "iopub.execute_input": "2023-02-17T02:25:16.264840Z",
     "iopub.status.busy": "2023-02-17T02:25:16.264146Z",
     "iopub.status.idle": "2023-02-17T02:25:16.477403Z",
     "shell.execute_reply": "2023-02-17T02:25:16.476226Z"
    },
    "papermill": {
     "duration": 0.259016,
     "end_time": "2023-02-17T02:25:16.480215",
     "exception": false,
     "start_time": "2023-02-17T02:25:16.221199",
     "status": "completed"
    },
    "tags": []
   },
   "outputs": [],
   "source": [
    "import torch\n",
    "import torch.nn as nn\n",
    "from torch.autograd import Variable\n",
    "from torch.nn import functional as F\n",
    "import torch.optim as optim\n",
    "from sklearn.metrics import confusion_matrix\n",
    "from sklearn.metrics import mean_absolute_error, mean_squared_error\n",
    "from sklearn.model_selection import train_test_split\n",
    "from sklearn.model_selection import KFold\n",
    "import numpy as np\n",
    "import pandas as pd\n",
    "import os\n",
    "import pickle\n",
    "import random\n",
    "import itertools\n",
    "def get_param_group(model):\n",
    "    nd_list = []\n",
    "    param_list = []\n",
    "    for name, param in model.named_parameters():\n",
    "        if 'ln' in name:\n",
    "            nd_list.append(param)\n",
    "        else:\n",
    "            param_list.append(param)\n",
    "    return [{'params': param_list, 'weight_decay': 1e-5}, {'params': nd_list, 'weight_decay': 0}]"
   ]
  },
  {
   "cell_type": "markdown",
   "id": "955000be",
   "metadata": {
    "papermill": {
     "duration": 0.041756,
     "end_time": "2023-02-17T02:25:16.563289",
     "exception": false,
     "start_time": "2023-02-17T02:25:16.521533",
     "status": "completed"
    },
    "tags": []
   },
   "source": [
    "# **What's more,we train it**"
   ]
  },
  {
   "cell_type": "code",
   "execution_count": 14,
   "id": "88afb834",
   "metadata": {
    "execution": {
     "iopub.execute_input": "2023-02-17T02:25:16.648555Z",
     "iopub.status.busy": "2023-02-17T02:25:16.648143Z",
     "iopub.status.idle": "2023-02-17T03:47:08.191848Z",
     "shell.execute_reply": "2023-02-17T03:47:08.190334Z"
    },
    "papermill": {
     "duration": 4911.632058,
     "end_time": "2023-02-17T03:47:08.236617",
     "exception": false,
     "start_time": "2023-02-17T02:25:16.604559",
     "status": "completed"
    },
    "tags": []
   },
   "outputs": [
    {
     "name": "stdout",
     "output_type": "stream",
     "text": [
      "Train Epoch: 50\t Loss: 0.590089\t Accuracy: 539/746 (72%)\n",
      " \n",
      "Train Epoch: 100\t Loss: 0.570277\t Accuracy: 539/746 (72%)\n",
      " \n",
      "Train Epoch: 150\t Loss: 0.529184\t Accuracy: 539/746 (72%)\n",
      " \n",
      "Train Epoch: 200\t Loss: 0.515876\t Accuracy: 539/746 (72%)\n",
      " \n",
      "Train Epoch: 250\t Loss: 0.492026\t Accuracy: 634/746 (85%)\n",
      " \n",
      "Train Epoch: 300\t Loss: 0.457275\t Accuracy: 654/746 (88%)\n",
      " \n",
      "Train Epoch: 350\t Loss: 0.448969\t Accuracy: 673/746 (90%)\n",
      " \n",
      "Train Epoch: 400\t Loss: 0.438158\t Accuracy: 670/746 (90%)\n",
      " \n",
      "Train Epoch: 450\t Loss: 0.428116\t Accuracy: 686/746 (92%)\n",
      " \n",
      "Train Epoch: 500\t Loss: 0.425038\t Accuracy: 685/746 (92%)\n",
      " \n",
      "Train Epoch: 550\t Loss: 0.420208\t Accuracy: 687/746 (92%)\n",
      " \n",
      "Train Epoch: 600\t Loss: 0.408576\t Accuracy: 695/746 (93%)\n",
      " \n",
      "Train Epoch: 650\t Loss: 0.410715\t Accuracy: 697/746 (93%)\n",
      " \n",
      "Train Epoch: 700\t Loss: 0.405123\t Accuracy: 696/746 (93%)\n",
      " \n",
      "Train Epoch: 750\t Loss: 0.426681\t Accuracy: 696/746 (93%)\n",
      " \n",
      "Train Epoch: 800\t Loss: 0.413785\t Accuracy: 699/746 (94%)\n",
      " \n",
      "Train Epoch: 850\t Loss: 0.408402\t Accuracy: 709/746 (95%)\n",
      " \n",
      "Train Epoch: 900\t Loss: 0.423788\t Accuracy: 707/746 (95%)\n",
      " \n",
      "Train Epoch: 950\t Loss: 0.403782\t Accuracy: 711/746 (95%)\n",
      " \n",
      "Train Epoch: 1000\t Loss: 0.390796\t Accuracy: 713/746 (96%)\n",
      " \n",
      "Train Epoch: 1050\t Loss: 0.388217\t Accuracy: 712/746 (95%)\n",
      " \n",
      "Train Epoch: 1100\t Loss: 0.393777\t Accuracy: 709/746 (95%)\n",
      " \n",
      "Train Epoch: 1150\t Loss: 0.383991\t Accuracy: 714/746 (96%)\n",
      " \n",
      "Train Epoch: 1200\t Loss: 0.383848\t Accuracy: 714/746 (96%)\n",
      " \n"
     ]
    }
   ],
   "source": [
    "accs=[]\n",
    "model=CapsNet1()#.cuda()\n",
    "criterion = torch.nn.CrossEntropyLoss()\n",
    "optimizer = optim.Adam(model.parameters(), lr=3e-4)\n",
    "scheduler = optim.lr_scheduler.ExponentialLR(optimizer, gamma=0.98)\n",
    "max_f1=0\n",
    "for ep in range(1200):\n",
    "    correct=0\n",
    "    total_loss=0\n",
    "    for i in range(0, xtrain.shape[0], 1024):\n",
    "        if i + 1024 > xtrain.shape[0]:\n",
    "            x, y = xtrain[i:], ytrain[i:]\n",
    "        else:\n",
    "            x, y = xtrain[i:(i + 1024)], ytrain[i:(i + 1024)]\n",
    "        x, y = Variable(torch.from_numpy(x).type(torch.FloatTensor), requires_grad=True),Variable(torch.from_numpy(y))\n",
    "        model.train()\n",
    "        x=x.reshape(-1,2,24,16)\n",
    "        optimizer.zero_grad()\n",
    "        logits= model(x)\n",
    "        pred = torch.argmax(logits, dim=1)\n",
    "        correct += pred.eq(y.data.view_as(pred)).cpu().sum()\n",
    "        loss = criterion(logits, y.long())\n",
    "        loss.backward()\n",
    "        optimizer.step()\n",
    "        total_loss += loss.item()\n",
    "    if (ep + 1)%50==0:\n",
    "        print('Train Epoch: {:2d}\\t Loss: {:.6f}\\t Accuracy: {}/{} ({:.0f}%)\\n '.format(ep + 1,total_loss,correct,xtrain.shape[0],100.* correct / xtrain.shape[0]))\n",
    "    accs.append(100. * correct / x.shape[0])"
   ]
  },
  {
   "cell_type": "code",
   "execution_count": 15,
   "id": "6e5a5023",
   "metadata": {
    "execution": {
     "iopub.execute_input": "2023-02-17T03:47:08.322585Z",
     "iopub.status.busy": "2023-02-17T03:47:08.321775Z",
     "iopub.status.idle": "2023-02-17T03:47:09.600848Z",
     "shell.execute_reply": "2023-02-17T03:47:09.599736Z"
    },
    "papermill": {
     "duration": 1.32795,
     "end_time": "2023-02-17T03:47:09.606238",
     "exception": false,
     "start_time": "2023-02-17T03:47:08.278288",
     "status": "completed"
    },
    "tags": []
   },
   "outputs": [
    {
     "data": {
      "image/png": "[encoded data removed]",
      "text/plain": [
       "<Figure size 3840x2880 with 1 Axes>"
      ]
     },
     "metadata": {},
     "output_type": "display_data"
    }
   ],
   "source": [
    "import matplotlib.pyplot as plt\n",
    "plt.rcParams[\"font.sans-serif\"] = [\"Microsoft YaHei\"]\n",
    "plt.rcParams['axes.unicode_minus'] = False\n",
    "plt.figure(dpi=600)\n",
    "plt.plot(accs,'-*',label=\"acc\")\n",
    "plt.xlabel(\"Iteration\",fontsize='medium')\n",
    "plt.ylabel(\"value\",fontsize='medium')\n",
    "plt.grid()\n",
    "plt.title(\"caspnet test evaluation\")\n",
    "plt.legend()\n",
    "plt.show()"
   ]
  },
  {
   "cell_type": "code",
   "execution_count": 16,
   "id": "ed083686",
   "metadata": {
    "execution": {
     "iopub.execute_input": "2023-02-17T03:47:09.701063Z",
     "iopub.status.busy": "2023-02-17T03:47:09.700662Z",
     "iopub.status.idle": "2023-02-17T03:47:09.704892Z",
     "shell.execute_reply": "2023-02-17T03:47:09.703876Z"
    },
    "papermill": {
     "duration": 0.053932,
     "end_time": "2023-02-17T03:47:09.707078",
     "exception": false,
     "start_time": "2023-02-17T03:47:09.653146",
     "status": "completed"
    },
    "tags": []
   },
   "outputs": [],
   "source": [
    "del xtrain\n",
    "del x,y"
   ]
  },
  {
   "cell_type": "markdown",
   "id": "378edffb",
   "metadata": {
    "papermill": {
     "duration": 0.046403,
     "end_time": "2023-02-17T03:47:09.799883",
     "exception": false,
     "start_time": "2023-02-17T03:47:09.753480",
     "status": "completed"
    },
    "tags": []
   },
   "source": [
    "# **Finally,we predict the answer**"
   ]
  },
  {
   "cell_type": "code",
   "execution_count": 17,
   "id": "0d8aeaac",
   "metadata": {
    "execution": {
     "iopub.execute_input": "2023-02-17T03:47:09.895493Z",
     "iopub.status.busy": "2023-02-17T03:47:09.894906Z",
     "iopub.status.idle": "2023-02-17T03:47:09.899504Z",
     "shell.execute_reply": "2023-02-17T03:47:09.898791Z"
    },
    "papermill": {
     "duration": 0.054514,
     "end_time": "2023-02-17T03:47:09.901563",
     "exception": false,
     "start_time": "2023-02-17T03:47:09.847049",
     "status": "completed"
    },
    "tags": []
   },
   "outputs": [],
   "source": [
    "xtest = Variable(torch.from_numpy(xtest).type(torch.float32), requires_grad=True)"
   ]
  },
  {
   "cell_type": "code",
   "execution_count": 18,
   "id": "e96dbf5e",
   "metadata": {
    "execution": {
     "iopub.execute_input": "2023-02-17T03:47:09.995712Z",
     "iopub.status.busy": "2023-02-17T03:47:09.995117Z",
     "iopub.status.idle": "2023-02-17T03:47:10.008020Z",
     "shell.execute_reply": "2023-02-17T03:47:10.007001Z"
    },
    "papermill": {
     "duration": 0.062282,
     "end_time": "2023-02-17T03:47:10.010138",
     "exception": false,
     "start_time": "2023-02-17T03:47:09.947856",
     "status": "completed"
    },
    "tags": []
   },
   "outputs": [
    {
     "data": {
      "text/plain": [
       "tensor([[-0.0243,  0.0473, -0.0182,  ..., -0.1512, -0.0718,  0.0194],\n",
       "        [-0.0393,  0.0829, -0.0414,  ..., -0.1243, -0.0500, -0.0273],\n",
       "        [-0.0356,  0.0931, -0.0474,  ..., -0.1285, -0.0383, -0.0255],\n",
       "        ...,\n",
       "        [-0.0219,  0.0922, -0.0322,  ..., -0.1165, -0.0300, -0.0478],\n",
       "        [-0.0608,  0.0436, -0.0045,  ..., -0.1377, -0.0633, -0.0426],\n",
       "        [-0.0583,  0.1018, -0.0233,  ..., -0.0997, -0.0131, -0.0196]],\n",
       "       requires_grad=True)"
      ]
     },
     "execution_count": 18,
     "metadata": {},
     "output_type": "execute_result"
    }
   ],
   "source": [
    "xtest"
   ]
  },
  {
   "cell_type": "code",
   "execution_count": 19,
   "id": "a226ef31",
   "metadata": {
    "execution": {
     "iopub.execute_input": "2023-02-17T03:47:10.102615Z",
     "iopub.status.busy": "2023-02-17T03:47:10.101999Z",
     "iopub.status.idle": "2023-02-17T03:47:11.147019Z",
     "shell.execute_reply": "2023-02-17T03:47:11.145862Z"
    },
    "papermill": {
     "duration": 1.093772,
     "end_time": "2023-02-17T03:47:11.149296",
     "exception": false,
     "start_time": "2023-02-17T03:47:10.055524",
     "status": "completed"
    },
    "tags": []
   },
   "outputs": [
    {
     "name": "stderr",
     "output_type": "stream",
     "text": [
      "100%|██████████| 249/249 [00:01<00:00, 243.15it/s]\n"
     ]
    },
    {
     "data": {
      "text/plain": [
       "array([[0.4658993 , 0.8954398 ],\n",
       "       [0.99745405, 0.21965858],\n",
       "       [0.32762077, 0.7958692 ],\n",
       "       [0.31388763, 0.986263  ],\n",
       "       [0.9590404 , 0.14101559],\n",
       "       [0.9928218 , 0.08979924],\n",
       "       [0.99721193, 0.02793233],\n",
       "       [0.11546159, 0.9148597 ],\n",
       "       [0.9419351 , 0.22574201],\n",
       "       [0.9006981 , 0.5865174 ],\n",
       "       [0.8257244 , 0.49050915],\n",
       "       [0.3748218 , 0.83171034],\n",
       "       [0.99510026, 0.06965098],\n",
       "       [0.99422896, 0.00869594],\n",
       "       [0.24767321, 0.9445238 ],\n",
       "       [0.946316  , 0.2643582 ],\n",
       "       [0.9896465 , 0.24313274],\n",
       "       [0.6437238 , 0.5816478 ],\n",
       "       [0.8289203 , 0.35430154],\n",
       "       [0.6455796 , 0.65655625],\n",
       "       [0.8953153 , 0.7179293 ],\n",
       "       [0.98031276, 0.03272182],\n",
       "       [0.99060965, 0.201127  ],\n",
       "       [0.98337513, 0.09825279],\n",
       "       [0.8838167 , 0.32124242],\n",
       "       [0.9992695 , 0.16356021],\n",
       "       [0.9910019 , 0.19801949],\n",
       "       [0.9848206 , 0.2784326 ],\n",
       "       [0.5830454 , 0.56244946],\n",
       "       [0.99780643, 0.40381074],\n",
       "       [0.97110534, 0.347302  ],\n",
       "       [0.9947974 , 0.01564426],\n",
       "       [0.98609465, 0.49013785],\n",
       "       [0.36825567, 0.96868837],\n",
       "       [0.99826044, 0.08178172],\n",
       "       [0.9410619 , 0.41481292],\n",
       "       [0.2086284 , 0.9404206 ],\n",
       "       [0.94942135, 0.2835501 ],\n",
       "       [0.83568543, 0.5871827 ],\n",
       "       [0.99710524, 0.05516689],\n",
       "       [0.9971116 , 0.00905273],\n",
       "       [0.986417  , 0.06681215],\n",
       "       [0.99893916, 0.07506092],\n",
       "       [0.7560147 , 0.6575087 ],\n",
       "       [0.9991403 , 0.17659675],\n",
       "       [0.9855665 , 0.21516047],\n",
       "       [0.7962315 , 0.48809114],\n",
       "       [0.9939802 , 0.31694576],\n",
       "       [0.9908225 , 0.0297825 ],\n",
       "       [0.99129647, 0.03022909],\n",
       "       [0.41595948, 0.951328  ],\n",
       "       [0.76536584, 0.9567996 ],\n",
       "       [0.12660438, 0.94088435],\n",
       "       [0.99405473, 0.01317735],\n",
       "       [0.998777  , 0.16172437],\n",
       "       [0.6390915 , 0.6072398 ],\n",
       "       [0.60547876, 0.751132  ],\n",
       "       [0.7313255 , 0.6192854 ],\n",
       "       [0.99726814, 0.22540939],\n",
       "       [0.7273714 , 0.7808073 ],\n",
       "       [0.9984143 , 0.24060893],\n",
       "       [0.97625375, 0.02271761],\n",
       "       [0.98053867, 0.00914385],\n",
       "       [0.9978374 , 0.15542245],\n",
       "       [0.9966906 , 0.01049055],\n",
       "       [0.99228585, 0.17246833],\n",
       "       [0.9916025 , 0.08046007],\n",
       "       [0.94666386, 0.05678335],\n",
       "       [0.89011174, 0.45426148],\n",
       "       [0.97199285, 0.11197523],\n",
       "       [0.999167  , 0.09072343],\n",
       "       [0.9963021 , 0.44749832],\n",
       "       [0.98274964, 0.12307929],\n",
       "       [0.21695456, 0.92855924],\n",
       "       [0.99870104, 0.3266074 ],\n",
       "       [0.99854505, 0.0527671 ],\n",
       "       [0.9932117 , 0.13397461],\n",
       "       [0.06362025, 0.9419179 ],\n",
       "       [0.96966493, 0.04767551],\n",
       "       [0.9755386 , 0.02591155],\n",
       "       [0.2783315 , 0.712824  ],\n",
       "       [0.99606395, 0.16172521],\n",
       "       [0.9509853 , 0.29435217],\n",
       "       [0.9975507 , 0.11563517],\n",
       "       [0.9977509 , 0.1939595 ],\n",
       "       [0.76343834, 0.5979065 ],\n",
       "       [0.9573027 , 0.48456797],\n",
       "       [0.9972749 , 0.00525098],\n",
       "       [0.8355334 , 0.526078  ],\n",
       "       [0.9949542 , 0.05034532],\n",
       "       [0.69594246, 0.78413016],\n",
       "       [0.9749597 , 0.04565146],\n",
       "       [0.9906528 , 0.07582533],\n",
       "       [0.553289  , 0.794608  ],\n",
       "       [0.99857616, 0.08022767],\n",
       "       [0.9833322 , 0.02883092],\n",
       "       [0.9892903 , 0.04452756],\n",
       "       [0.90875226, 0.5228888 ],\n",
       "       [0.86214554, 0.9794082 ],\n",
       "       [0.7294442 , 0.97609824],\n",
       "       [0.9696576 , 0.04995548],\n",
       "       [0.09805553, 0.96561956],\n",
       "       [0.9640003 , 0.08256961],\n",
       "       [0.7855344 , 0.83415204],\n",
       "       [0.9986792 , 0.05061311],\n",
       "       [0.98031276, 0.03272182],\n",
       "       [0.9930083 , 0.04435844],\n",
       "       [0.9188968 , 0.46179911],\n",
       "       [0.84382915, 0.5949323 ],\n",
       "       [0.996331  , 0.06807187],\n",
       "       [0.41737983, 0.80757827],\n",
       "       [0.99838376, 0.23545139],\n",
       "       [0.99317896, 0.18590656],\n",
       "       [0.99877924, 0.08706605],\n",
       "       [0.5702754 , 0.83837   ],\n",
       "       [0.5830454 , 0.56244946],\n",
       "       [0.7665159 , 0.9765763 ],\n",
       "       [0.12814783, 0.986925  ],\n",
       "       [0.97935766, 0.07315778],\n",
       "       [0.99893904, 0.30886334],\n",
       "       [0.99554867, 0.2684882 ],\n",
       "       [0.99393547, 0.08883106],\n",
       "       [0.9849581 , 0.06506307],\n",
       "       [0.98878926, 0.05156993],\n",
       "       [0.9913704 , 0.0866977 ],\n",
       "       [0.99112576, 0.1518393 ],\n",
       "       [0.59995365, 0.8533041 ],\n",
       "       [0.995268  , 0.10376966],\n",
       "       [0.9981146 , 0.15320423],\n",
       "       [0.998942  , 0.16747478],\n",
       "       [0.9441891 , 0.06704172],\n",
       "       [0.09018968, 0.97067225],\n",
       "       [0.9265605 , 0.22644651],\n",
       "       [0.99898475, 0.02142379],\n",
       "       [0.99797994, 0.02828146],\n",
       "       [0.998546  , 0.04380921],\n",
       "       [0.9855126 , 0.00878725],\n",
       "       [0.9762183 , 0.07271453],\n",
       "       [0.99357545, 0.13705143],\n",
       "       [0.9961104 , 0.02028659],\n",
       "       [0.97085357, 0.05429902],\n",
       "       [0.99339336, 0.08984454],\n",
       "       [0.9991656 , 0.1881551 ],\n",
       "       [0.48641443, 0.7278775 ],\n",
       "       [0.9909096 , 0.04430811],\n",
       "       [0.98053235, 0.11131964],\n",
       "       [0.3692641 , 0.74648315],\n",
       "       [0.992611  , 0.11566244],\n",
       "       [0.9991709 , 0.1872151 ],\n",
       "       [0.9916408 , 0.01616225],\n",
       "       [0.48798633, 0.73901314],\n",
       "       [0.9970476 , 0.48956683],\n",
       "       [0.98053235, 0.11131964],\n",
       "       [0.9866919 , 0.04181517],\n",
       "       [0.9900887 , 0.05396762],\n",
       "       [0.98031276, 0.03272182],\n",
       "       [0.99783736, 0.02121019],\n",
       "       [0.98916066, 0.08677082],\n",
       "       [0.6156036 , 0.97901   ],\n",
       "       [0.99494505, 0.19194959],\n",
       "       [0.9645648 , 0.10748722],\n",
       "       [0.9932529 , 0.0176033 ],\n",
       "       [0.9992132 , 0.26855993],\n",
       "       [0.99562424, 0.0172789 ],\n",
       "       [0.9545836 , 0.26786622],\n",
       "       [0.9626227 , 0.6077734 ],\n",
       "       [0.992934  , 0.02463534],\n",
       "       [0.99387103, 0.18507458],\n",
       "       [0.9647601 , 0.19747105],\n",
       "       [0.9978159 , 0.07064243],\n",
       "       [0.9228805 , 0.3285884 ],\n",
       "       [0.9782196 , 0.31095234],\n",
       "       [0.99429274, 0.11751898],\n",
       "       [0.99302304, 0.09077154],\n",
       "       [0.9976985 , 0.08739559],\n",
       "       [0.9986886 , 0.4159272 ],\n",
       "       [0.97410804, 0.02655315],\n",
       "       [0.99868   , 0.19931842],\n",
       "       [0.18627697, 0.9911923 ],\n",
       "       [0.29741094, 0.98859   ],\n",
       "       [0.0592953 , 0.9201265 ],\n",
       "       [0.99837375, 0.14897496],\n",
       "       [0.2788615 , 0.9289064 ],\n",
       "       [0.59251046, 0.8161764 ],\n",
       "       [0.95282835, 0.14671908],\n",
       "       [0.99711084, 0.42580658],\n",
       "       [0.8450316 , 0.98462796],\n",
       "       [0.9603533 , 0.16033776],\n",
       "       [0.8814581 , 0.40793046],\n",
       "       [0.8628634 , 0.33494756],\n",
       "       [0.99691296, 0.233423  ],\n",
       "       [0.9988296 , 0.03084471],\n",
       "       [0.9616957 , 0.15439199],\n",
       "       [0.99892294, 0.13320656],\n",
       "       [0.99787295, 0.19726431],\n",
       "       [0.03585064, 0.8876029 ],\n",
       "       [0.993451  , 0.09934515],\n",
       "       [0.99575007, 0.00722613],\n",
       "       [0.9896826 , 0.00627904],\n",
       "       [0.99885845, 0.04229863],\n",
       "       [0.9985456 , 0.02216311],\n",
       "       [0.8231939 , 0.5073252 ],\n",
       "       [0.14911175, 0.9643883 ],\n",
       "       [0.9988115 , 0.05195218],\n",
       "       [0.9776887 , 0.63942003],\n",
       "       [0.9393211 , 0.40216687],\n",
       "       [0.9990005 , 0.00928636],\n",
       "       [0.9885534 , 0.22857253],\n",
       "       [0.09041803, 0.97493345],\n",
       "       [0.9931054 , 0.09991086],\n",
       "       [0.28510255, 0.9755606 ],\n",
       "       [0.99673563, 0.24032456],\n",
       "       [0.982832  , 0.0232869 ],\n",
       "       [0.99661046, 0.04504013],\n",
       "       [0.30238524, 0.8410789 ],\n",
       "       [0.9982887 , 0.0407747 ],\n",
       "       [0.9946958 , 0.07375499],\n",
       "       [0.5830454 , 0.56244946],\n",
       "       [0.99710816, 0.01019414],\n",
       "       [0.9903057 , 0.07912678],\n",
       "       [0.17866887, 0.9267453 ],\n",
       "       [0.99285275, 0.11722717],\n",
       "       [0.03801731, 0.9668093 ],\n",
       "       [0.99368   , 0.01524647],\n",
       "       [0.93049085, 0.40213156],\n",
       "       [0.9940512 , 0.02138222],\n",
       "       [0.9950045 , 0.0312903 ],\n",
       "       [0.99659246, 0.16026188],\n",
       "       [0.8262541 , 0.59892935],\n",
       "       [0.99466693, 0.18344517],\n",
       "       [0.12772176, 0.9447657 ],\n",
       "       [0.986417  , 0.06681215],\n",
       "       [0.90933263, 0.424928  ],\n",
       "       [0.99161506, 0.06673551],\n",
       "       [0.99687773, 0.03087072],\n",
       "       [0.03167222, 0.92865777],\n",
       "       [0.97299856, 0.12109759],\n",
       "       [0.65079296, 0.80305934],\n",
       "       [0.9976647 , 0.03586536],\n",
       "       [0.9624163 , 0.13853641],\n",
       "       [0.99778765, 0.11901174],\n",
       "       [0.987202  , 0.01422656],\n",
       "       [0.9935061 , 0.26025352],\n",
       "       [0.9894717 , 0.02238746],\n",
       "       [0.9590398 , 0.17812952],\n",
       "       [0.94082487, 0.2719755 ],\n",
       "       [0.9422373 , 0.06656826],\n",
       "       [0.9971882 , 0.06754228],\n",
       "       [0.9936232 , 0.06411079]], dtype=float32)"
      ]
     },
     "execution_count": 19,
     "metadata": {},
     "output_type": "execute_result"
    }
   ],
   "source": [
    "ypred2=[]\n",
    "for i in tqdm(range(xtest.shape[0])):\n",
    "    ypred2.append(model(xtest[i].reshape(-1,2,24,16)).cpu().detach().numpy()[0])\n",
    "ypred2=np.array(ypred2).reshape(-1,2)\n",
    "ypred2"
   ]
  },
  {
   "cell_type": "code",
   "execution_count": 20,
   "id": "eda9402c",
   "metadata": {
    "execution": {
     "iopub.execute_input": "2023-02-17T03:47:11.245205Z",
     "iopub.status.busy": "2023-02-17T03:47:11.244792Z",
     "iopub.status.idle": "2023-02-17T03:47:11.249410Z",
     "shell.execute_reply": "2023-02-17T03:47:11.248479Z"
    },
    "papermill": {
     "duration": 0.054609,
     "end_time": "2023-02-17T03:47:11.251342",
     "exception": false,
     "start_time": "2023-02-17T03:47:11.196733",
     "status": "completed"
    },
    "tags": []
   },
   "outputs": [],
   "source": [
    "y=np.argmax(ypred2,axis=1)"
   ]
  },
  {
   "cell_type": "code",
   "execution_count": 21,
   "id": "54bdfa0f",
   "metadata": {
    "execution": {
     "iopub.execute_input": "2023-02-17T03:47:11.344516Z",
     "iopub.status.busy": "2023-02-17T03:47:11.343584Z",
     "iopub.status.idle": "2023-02-17T03:47:11.369271Z",
     "shell.execute_reply": "2023-02-17T03:47:11.368327Z"
    },
    "papermill": {
     "duration": 0.074706,
     "end_time": "2023-02-17T03:47:11.371418",
     "exception": false,
     "start_time": "2023-02-17T03:47:11.296712",
     "status": "completed"
    },
    "tags": []
   },
   "outputs": [
    {
     "data": {
      "text/html": [
       "<div>\n",
       "<style scoped>\n",
       "    .dataframe tbody tr th:only-of-type {\n",
       "        vertical-align: middle;\n",
       "    }\n",
       "\n",
       "    .dataframe tbody tr th {\n",
       "        vertical-align: top;\n",
       "    }\n",
       "\n",
       "    .dataframe thead th {\n",
       "        text-align: right;\n",
       "    }\n",
       "</style>\n",
       "<table border=\"1\" class=\"dataframe\">\n",
       "  <thead>\n",
       "    <tr style=\"text-align: right;\">\n",
       "      <th></th>\n",
       "      <th>Id</th>\n",
       "      <th>Category</th>\n",
       "    </tr>\n",
       "  </thead>\n",
       "  <tbody>\n",
       "    <tr>\n",
       "      <th>0</th>\n",
       "      <td>710</td>\n",
       "      <td>1</td>\n",
       "    </tr>\n",
       "    <tr>\n",
       "      <th>1</th>\n",
       "      <td>487</td>\n",
       "      <td>0</td>\n",
       "    </tr>\n",
       "    <tr>\n",
       "      <th>2</th>\n",
       "      <td>136</td>\n",
       "      <td>1</td>\n",
       "    </tr>\n",
       "    <tr>\n",
       "      <th>3</th>\n",
       "      <td>44</td>\n",
       "      <td>1</td>\n",
       "    </tr>\n",
       "    <tr>\n",
       "      <th>4</th>\n",
       "      <td>627</td>\n",
       "      <td>0</td>\n",
       "    </tr>\n",
       "    <tr>\n",
       "      <th>...</th>\n",
       "      <td>...</td>\n",
       "      <td>...</td>\n",
       "    </tr>\n",
       "    <tr>\n",
       "      <th>244</th>\n",
       "      <td>702</td>\n",
       "      <td>0</td>\n",
       "    </tr>\n",
       "    <tr>\n",
       "      <th>245</th>\n",
       "      <td>500</td>\n",
       "      <td>0</td>\n",
       "    </tr>\n",
       "    <tr>\n",
       "      <th>246</th>\n",
       "      <td>818</td>\n",
       "      <td>0</td>\n",
       "    </tr>\n",
       "    <tr>\n",
       "      <th>247</th>\n",
       "      <td>584</td>\n",
       "      <td>0</td>\n",
       "    </tr>\n",
       "    <tr>\n",
       "      <th>248</th>\n",
       "      <td>355</td>\n",
       "      <td>0</td>\n",
       "    </tr>\n",
       "  </tbody>\n",
       "</table>\n",
       "<p>249 rows × 2 columns</p>\n",
       "</div>"
      ],
      "text/plain": [
       "      Id  Category\n",
       "0    710         1\n",
       "1    487         0\n",
       "2    136         1\n",
       "3     44         1\n",
       "4    627         0\n",
       "..   ...       ...\n",
       "244  702         0\n",
       "245  500         0\n",
       "246  818         0\n",
       "247  584         0\n",
       "248  355         0\n",
       "\n",
       "[249 rows x 2 columns]"
      ]
     },
     "execution_count": 21,
     "metadata": {},
     "output_type": "execute_result"
    }
   ],
   "source": [
    "sub[\"Category\"]=y\n",
    "sub"
   ]
  },
  {
   "cell_type": "code",
   "execution_count": 22,
   "id": "9cf5dc37",
   "metadata": {
    "execution": {
     "iopub.execute_input": "2023-02-17T03:47:11.465612Z",
     "iopub.status.busy": "2023-02-17T03:47:11.464913Z",
     "iopub.status.idle": "2023-02-17T03:47:11.473928Z",
     "shell.execute_reply": "2023-02-17T03:47:11.473243Z"
    },
    "papermill": {
     "duration": 0.05746,
     "end_time": "2023-02-17T03:47:11.475669",
     "exception": false,
     "start_time": "2023-02-17T03:47:11.418209",
     "status": "completed"
    },
    "tags": []
   },
   "outputs": [],
   "source": [
    "sub.to_csv(\"sample_submission.csv\",index=False)"
   ]
  },
  {
   "cell_type": "code",
   "execution_count": null,
   "id": "200ebc6d",
   "metadata": {
    "papermill": {
     "duration": 0.04716,
     "end_time": "2023-02-17T03:47:11.568730",
     "exception": false,
     "start_time": "2023-02-17T03:47:11.521570",
     "status": "completed"
    },
    "tags": []
   },
   "outputs": [],
   "source": []
  },
  {
   "cell_type": "code",
   "execution_count": null,
   "id": "96af5917",
   "metadata": {
    "papermill": {
     "duration": 0.045465,
     "end_time": "2023-02-17T03:47:11.660313",
     "exception": false,
     "start_time": "2023-02-17T03:47:11.614848",
     "status": "completed"
    },
    "tags": []
   },
   "outputs": [],
   "source": []
  },
  {
   "cell_type": "code",
   "execution_count": null,
   "id": "88c202e3",
   "metadata": {
    "papermill": {
     "duration": 0.045625,
     "end_time": "2023-02-17T03:47:11.751510",
     "exception": false,
     "start_time": "2023-02-17T03:47:11.705885",
     "status": "completed"
    },
    "tags": []
   },
   "outputs": [],
   "source": []
  }
 ],
 "metadata": {
  "kernelspec": {
   "display_name": "Python 3",
   "language": "python",
   "name": "python3"
  },
  "language_info": {
   "codemirror_mode": {
    "name": "ipython",
    "version": 3
   },
   "file_extension": ".py",
   "mimetype": "text/x-python",
   "name": "python",
   "nbconvert_exporter": "python",
   "pygments_lexer": "ipython3",
   "version": "3.7.12"
  },
  "papermill": {
   "default_parameters": {},
   "duration": 5068.123709,
   "end_time": "2023-02-17T03:47:15.462384",
   "environment_variables": {},
   "exception": null,
   "input_path": "__notebook__.ipynb",
   "output_path": "__notebook__.ipynb",
   "parameters": {},
   "start_time": "2023-02-17T02:22:47.338675",
   "version": "2.3.4"
  },
  "widgets": {
   "application/vnd.jupyter.widget-state+json": {
    "state": {
     "00c3790f14284ccf905529a0d9805f05": {
      "model_module": "@jupyter-widgets/controls",
      "model_module_version": "1.5.0",
      "model_name": "ProgressStyleModel",
      "state": {
       "_model_module": "@jupyter-widgets/controls",
       "_model_module_version": "1.5.0",
       "_model_name": "ProgressStyleModel",
       "_view_count": null,
       "_view_module": "@jupyter-widgets/base",
       "_view_module_version": "1.2.0",
       "_view_name": "StyleView",
       "bar_color": null,
       "description_width": ""
      }
     },
     "0543940123d0426fa6d7ed80d7a8bc9c": {
      "model_module": "@jupyter-widgets/base",
      "model_module_version": "1.2.0",
      "model_name": "LayoutModel",
      "state": {
       "_model_module": "@jupyter-widgets/base",
       "_model_module_version": "1.2.0",
       "_model_name": "LayoutModel",
       "_view_count": null,
       "_view_module": "@jupyter-widgets/base",
       "_view_module_version": "1.2.0",
       "_view_name": "LayoutView",
       "align_content": null,
       "align_items": null,
       "align_self": null,
       "border": null,
       "bottom": null,
       "display": null,
       "flex": null,
       "flex_flow": null,
       "grid_area": null,
       "grid_auto_columns": null,
       "grid_auto_flow": null,
       "grid_auto_rows": null,
       "grid_column": null,
       "grid_gap": null,
       "grid_row": null,
       "grid_template_areas": null,
       "grid_template_columns": null,
       "grid_template_rows": null,
       "height": null,
       "justify_content": null,
       "justify_items": null,
       "left": null,
       "margin": null,
       "max_height": null,
       "max_width": null,
       "min_height": null,
       "min_width": null,
       "object_fit": null,
       "object_position": null,
       "order": null,
       "overflow": null,
       "overflow_x": null,
       "overflow_y": null,
       "padding": null,
       "right": null,
       "top": null,
       "visibility": null,
       "width": null
      }
     },
     "093f3be7050a43cba72633d279ada25c": {
      "model_module": "@jupyter-widgets/controls",
      "model_module_version": "1.5.0",
      "model_name": "DescriptionStyleModel",
      "state": {
       "_model_module": "@jupyter-widgets/controls",
       "_model_module_version": "1.5.0",
       "_model_name": "DescriptionStyleModel",
       "_view_count": null,
       "_view_module": "@jupyter-widgets/base",
       "_view_module_version": "1.2.0",
       "_view_name": "StyleView",
       "description_width": ""
      }
     },
     "0c98ce90b68e48108540973fbb0c73bb": {
      "model_module": "@jupyter-widgets/base",
      "model_module_version": "1.2.0",
      "model_name": "LayoutModel",
      "state": {
       "_model_module": "@jupyter-widgets/base",
       "_model_module_version": "1.2.0",
       "_model_name": "LayoutModel",
       "_view_count": null,
       "_view_module": "@jupyter-widgets/base",
       "_view_module_version": "1.2.0",
       "_view_name": "LayoutView",
       "align_content": null,
       "align_items": null,
       "align_self": null,
       "border": null,
       "bottom": null,
       "display": null,
       "flex": null,
       "flex_flow": null,
       "grid_area": null,
       "grid_auto_columns": null,
       "grid_auto_flow": null,
       "grid_auto_rows": null,
       "grid_column": null,
       "grid_gap": null,
       "grid_row": null,
       "grid_template_areas": null,
       "grid_template_columns": null,
       "grid_template_rows": null,
       "height": null,
       "justify_content": null,
       "justify_items": null,
       "left": null,
       "margin": null,
       "max_height": null,
       "max_width": null,
       "min_height": null,
       "min_width": null,
       "object_fit": null,
       "object_position": null,
       "order": null,
       "overflow": null,
       "overflow_x": null,
       "overflow_y": null,
       "padding": null,
       "right": null,
       "top": null,
       "visibility": null,
       "width": null
      }
     },
     "1695b542515a49d382de0bdca3a1e1bc": {
      "model_module": "@jupyter-widgets/controls",
      "model_module_version": "1.5.0",
      "model_name": "ProgressStyleModel",
      "state": {
       "_model_module": "@jupyter-widgets/controls",
       "_model_module_version": "1.5.0",
       "_model_name": "ProgressStyleModel",
       "_view_count": null,
       "_view_module": "@jupyter-widgets/base",
       "_view_module_version": "1.2.0",
       "_view_name": "StyleView",
       "bar_color": null,
       "description_width": ""
      }
     },
     "17655f2ed9cf47edb669964394322bd3": {
      "model_module": "@jupyter-widgets/controls",
      "model_module_version": "1.5.0",
      "model_name": "DescriptionStyleModel",
      "state": {
       "_model_module": "@jupyter-widgets/controls",
       "_model_module_version": "1.5.0",
       "_model_name": "DescriptionStyleModel",
       "_view_count": null,
       "_view_module": "@jupyter-widgets/base",
       "_view_module_version": "1.2.0",
       "_view_name": "StyleView",
       "description_width": ""
      }
     },
     "1dfd638b0f9140aa819777f53dd7bc68": {
      "model_module": "@jupyter-widgets/controls",
      "model_module_version": "1.5.0",
      "model_name": "HBoxModel",
      "state": {
       "_dom_classes": [],
       "_model_module": "@jupyter-widgets/controls",
       "_model_module_version": "1.5.0",
       "_model_name": "HBoxModel",
       "_view_count": null,
       "_view_module": "@jupyter-widgets/controls",
       "_view_module_version": "1.5.0",
       "_view_name": "HBoxView",
       "box_style": "",
       "children": [
        "IPY_MODEL_4a4beaaa39bf408ca7fad988988003ca",
        "IPY_MODEL_57ce5f4a01a346468c224fe38f93187a",
        "IPY_MODEL_5c3dc4425da04d208b7b55fd401b3a06"
       ],
       "layout": "IPY_MODEL_88d4b8b24d7143e5bdcb7e0d7a23c902"
      }
     },
     "271474de64af4553b85ebbbddb2d2ce1": {
      "model_module": "@jupyter-widgets/controls",
      "model_module_version": "1.5.0",
      "model_name": "HTMLModel",
      "state": {
       "_dom_classes": [],
       "_model_module": "@jupyter-widgets/controls",
       "_model_module_version": "1.5.0",
       "_model_name": "HTMLModel",
       "_view_count": null,
       "_view_module": "@jupyter-widgets/controls",
       "_view_module_version": "1.5.0",
       "_view_name": "HTMLView",
       "description": "",
       "description_tooltip": null,
       "layout": "IPY_MODEL_bb3346f1c7614e66bb44c13d11471da1",
       "placeholder": "​",
       "style": "IPY_MODEL_64c0913a194440968103c45c5dd25812",
       "value": "Downloading: 100%"
      }
     },
     "2d5fae12123b428cb935dd14c8c0ea13": {
      "model_module": "@jupyter-widgets/controls",
      "model_module_version": "1.5.0",
      "model_name": "HTMLModel",
      "state": {
       "_dom_classes": [],
       "_model_module": "@jupyter-widgets/controls",
       "_model_module_version": "1.5.0",
       "_model_name": "HTMLModel",
       "_view_count": null,
       "_view_module": "@jupyter-widgets/controls",
       "_view_module_version": "1.5.0",
       "_view_name": "HTMLView",
       "description": "",
       "description_tooltip": null,
       "layout": "IPY_MODEL_ff1223bc506f417e877f76a2bc5e0593",
       "placeholder": "​",
       "style": "IPY_MODEL_093f3be7050a43cba72633d279ada25c",
       "value": " 481/481 [00:00&lt;00:00, 17.2kB/s]"
      }
     },
     "328085ac39f64560bab4f84246b6e01b": {
      "model_module": "@jupyter-widgets/base",
      "model_module_version": "1.2.0",
      "model_name": "LayoutModel",
      "state": {
       "_model_module": "@jupyter-widgets/base",
       "_model_module_version": "1.2.0",
       "_model_name": "LayoutModel",
       "_view_count": null,
       "_view_module": "@jupyter-widgets/base",
       "_view_module_version": "1.2.0",
       "_view_name": "LayoutView",
       "align_content": null,
       "align_items": null,
       "align_self": null,
       "border": null,
       "bottom": null,
       "display": null,
       "flex": null,
       "flex_flow": null,
       "grid_area": null,
       "grid_auto_columns": null,
       "grid_auto_flow": null,
       "grid_auto_rows": null,
       "grid_column": null,
       "grid_gap": null,
       "grid_row": null,
       "grid_template_areas": null,
       "grid_template_columns": null,
       "grid_template_rows": null,
       "height": null,
       "justify_content": null,
       "justify_items": null,
       "left": null,
       "margin": null,
       "max_height": null,
       "max_width": null,
       "min_height": null,
       "min_width": null,
       "object_fit": null,
       "object_position": null,
       "order": null,
       "overflow": null,
       "overflow_x": null,
       "overflow_y": null,
       "padding": null,
       "right": null,
       "top": null,
       "visibility": null,
       "width": null
      }
     },
     "32dc52397ca6435eb990cb33b268efc5": {
      "model_module": "@jupyter-widgets/controls",
      "model_module_version": "1.5.0",
      "model_name": "FloatProgressModel",
      "state": {
       "_dom_classes": [],
       "_model_module": "@jupyter-widgets/controls",
       "_model_module_version": "1.5.0",
       "_model_name": "FloatProgressModel",
       "_view_count": null,
       "_view_module": "@jupyter-widgets/controls",
       "_view_module_version": "1.5.0",
       "_view_name": "ProgressView",
       "bar_style": "success",
       "description": "",
       "description_tooltip": null,
       "layout": "IPY_MODEL_0543940123d0426fa6d7ed80d7a8bc9c",
       "max": 501200538.0,
       "min": 0.0,
       "orientation": "horizontal",
       "style": "IPY_MODEL_00c3790f14284ccf905529a0d9805f05",
       "value": 501200538.0
      }
     },
     "476e9200eb5c47aeae5e2ac018e8ceba": {
      "model_module": "@jupyter-widgets/base",
      "model_module_version": "1.2.0",
      "model_name": "LayoutModel",
      "state": {
       "_model_module": "@jupyter-widgets/base",
       "_model_module_version": "1.2.0",
       "_model_name": "LayoutModel",
       "_view_count": null,
       "_view_module": "@jupyter-widgets/base",
       "_view_module_version": "1.2.0",
       "_view_name": "LayoutView",
       "align_content": null,
       "align_items": null,
       "align_self": null,
       "border": null,
       "bottom": null,
       "display": null,
       "flex": null,
       "flex_flow": null,
       "grid_area": null,
       "grid_auto_columns": null,
       "grid_auto_flow": null,
       "grid_auto_rows": null,
       "grid_column": null,
       "grid_gap": null,
       "grid_row": null,
       "grid_template_areas": null,
       "grid_template_columns": null,
       "grid_template_rows": null,
       "height": null,
       "justify_content": null,
       "justify_items": null,
       "left": null,
       "margin": null,
       "max_height": null,
       "max_width": null,
       "min_height": null,
       "min_width": null,
       "object_fit": null,
       "object_position": null,
       "order": null,
       "overflow": null,
       "overflow_x": null,
       "overflow_y": null,
       "padding": null,
       "right": null,
       "top": null,
       "visibility": null,
       "width": null
      }
     },
     "4a4beaaa39bf408ca7fad988988003ca": {
      "model_module": "@jupyter-widgets/controls",
      "model_module_version": "1.5.0",
      "model_name": "HTMLModel",
      "state": {
       "_dom_classes": [],
       "_model_module": "@jupyter-widgets/controls",
       "_model_module_version": "1.5.0",
       "_model_name": "HTMLModel",
       "_view_count": null,
       "_view_module": "@jupyter-widgets/controls",
       "_view_module_version": "1.5.0",
       "_view_name": "HTMLView",
       "description": "",
       "description_tooltip": null,
       "layout": "IPY_MODEL_d07a20835eac4f619961b8844ea68b61",
       "placeholder": "​",
       "style": "IPY_MODEL_86473801868240459fe4781eb23cce71",
       "value": "Downloading: 100%"
      }
     },
     "57ce5f4a01a346468c224fe38f93187a": {
      "model_module": "@jupyter-widgets/controls",
      "model_module_version": "1.5.0",
      "model_name": "FloatProgressModel",
      "state": {
       "_dom_classes": [],
       "_model_module": "@jupyter-widgets/controls",
       "_model_module_version": "1.5.0",
       "_model_name": "FloatProgressModel",
       "_view_count": null,
       "_view_module": "@jupyter-widgets/controls",
       "_view_module_version": "1.5.0",
       "_view_name": "ProgressView",
       "bar_style": "success",
       "description": "",
       "description_tooltip": null,
       "layout": "IPY_MODEL_59aa4310d1524a03ac25d46055cafe0c",
       "max": 898823.0,
       "min": 0.0,
       "orientation": "horizontal",
       "style": "IPY_MODEL_1695b542515a49d382de0bdca3a1e1bc",
       "value": 898823.0
      }
     },
     "59aa4310d1524a03ac25d46055cafe0c": {
      "model_module": "@jupyter-widgets/base",
      "model_module_version": "1.2.0",
      "model_name": "LayoutModel",
      "state": {
       "_model_module": "@jupyter-widgets/base",
       "_model_module_version": "1.2.0",
       "_model_name": "LayoutModel",
       "_view_count": null,
       "_view_module": "@jupyter-widgets/base",
       "_view_module_version": "1.2.0",
       "_view_name": "LayoutView",
       "align_content": null,
       "align_items": null,
       "align_self": null,
       "border": null,
       "bottom": null,
       "display": null,
       "flex": null,
       "flex_flow": null,
       "grid_area": null,
       "grid_auto_columns": null,
       "grid_auto_flow": null,
       "grid_auto_rows": null,
       "grid_column": null,
       "grid_gap": null,
       "grid_row": null,
       "grid_template_areas": null,
       "grid_template_columns": null,
       "grid_template_rows": null,
       "height": null,
       "justify_content": null,
       "justify_items": null,
       "left": null,
       "margin": null,
       "max_height": null,
       "max_width": null,
       "min_height": null,
       "min_width": null,
       "object_fit": null,
       "object_position": null,
       "order": null,
       "overflow": null,
       "overflow_x": null,
       "overflow_y": null,
       "padding": null,
       "right": null,
       "top": null,
       "visibility": null,
       "width": null
      }
     },
     "5c33dfa01bb84be1a72985ed8b371a1d": {
      "model_module": "@jupyter-widgets/controls",
      "model_module_version": "1.5.0",
      "model_name": "HBoxModel",
      "state": {
       "_dom_classes": [],
       "_model_module": "@jupyter-widgets/controls",
       "_model_module_version": "1.5.0",
       "_model_name": "HBoxModel",
       "_view_count": null,
       "_view_module": "@jupyter-widgets/controls",
       "_view_module_version": "1.5.0",
       "_view_name": "HBoxView",
       "box_style": "",
       "children": [
        "IPY_MODEL_271474de64af4553b85ebbbddb2d2ce1",
        "IPY_MODEL_ec46d3c2fd30438aa4b4e859a4225533",
        "IPY_MODEL_2d5fae12123b428cb935dd14c8c0ea13"
       ],
       "layout": "IPY_MODEL_71c7a24e22914c588f62ff178949cb0e"
      }
     },
     "5c3dc4425da04d208b7b55fd401b3a06": {
      "model_module": "@jupyter-widgets/controls",
      "model_module_version": "1.5.0",
      "model_name": "HTMLModel",
      "state": {
       "_dom_classes": [],
       "_model_module": "@jupyter-widgets/controls",
       "_model_module_version": "1.5.0",
       "_model_name": "HTMLModel",
       "_view_count": null,
       "_view_module": "@jupyter-widgets/controls",
       "_view_module_version": "1.5.0",
       "_view_name": "HTMLView",
       "description": "",
       "description_tooltip": null,
       "layout": "IPY_MODEL_476e9200eb5c47aeae5e2ac018e8ceba",
       "placeholder": "​",
       "style": "IPY_MODEL_cd799a8dab6d40be9b7be739d2ce0d79",
       "value": " 878k/878k [00:00&lt;00:00, 855kB/s]"
      }
     },
     "61f2a7ad2e974bc591d5103daae1c4b9": {
      "model_module": "@jupyter-widgets/base",
      "model_module_version": "1.2.0",
      "model_name": "LayoutModel",
      "state": {
       "_model_module": "@jupyter-widgets/base",
       "_model_module_version": "1.2.0",
       "_model_name": "LayoutModel",
       "_view_count": null,
       "_view_module": "@jupyter-widgets/base",
       "_view_module_version": "1.2.0",
       "_view_name": "LayoutView",
       "align_content": null,
       "align_items": null,
       "align_self": null,
       "border": null,
       "bottom": null,
       "display": null,
       "flex": null,
       "flex_flow": null,
       "grid_area": null,
       "grid_auto_columns": null,
       "grid_auto_flow": null,
       "grid_auto_rows": null,
       "grid_column": null,
       "grid_gap": null,
       "grid_row": null,
       "grid_template_areas": null,
       "grid_template_columns": null,
       "grid_template_rows": null,
       "height": null,
       "justify_content": null,
       "justify_items": null,
       "left": null,
       "margin": null,
       "max_height": null,
       "max_width": null,
       "min_height": null,
       "min_width": null,
       "object_fit": null,
       "object_position": null,
       "order": null,
       "overflow": null,
       "overflow_x": null,
       "overflow_y": null,
       "padding": null,
       "right": null,
       "top": null,
       "visibility": null,
       "width": null
      }
     },
     "649b1a56012a45e0a72e0ee1930433ad": {
      "model_module": "@jupyter-widgets/base",
      "model_module_version": "1.2.0",
      "model_name": "LayoutModel",
      "state": {
       "_model_module": "@jupyter-widgets/base",
       "_model_module_version": "1.2.0",
       "_model_name": "LayoutModel",
       "_view_count": null,
       "_view_module": "@jupyter-widgets/base",
       "_view_module_version": "1.2.0",
       "_view_name": "LayoutView",
       "align_content": null,
       "align_items": null,
       "align_self": null,
       "border": null,
       "bottom": null,
       "display": null,
       "flex": null,
       "flex_flow": null,
       "grid_area": null,
       "grid_auto_columns": null,
       "grid_auto_flow": null,
       "grid_auto_rows": null,
       "grid_column": null,
       "grid_gap": null,
       "grid_row": null,
       "grid_template_areas": null,
       "grid_template_columns": null,
       "grid_template_rows": null,
       "height": null,
       "justify_content": null,
       "justify_items": null,
       "left": null,
       "margin": null,
       "max_height": null,
       "max_width": null,
       "min_height": null,
       "min_width": null,
       "object_fit": null,
       "object_position": null,
       "order": null,
       "overflow": null,
       "overflow_x": null,
       "overflow_y": null,
       "padding": null,
       "right": null,
       "top": null,
       "visibility": null,
       "width": null
      }
     },
     "64c0913a194440968103c45c5dd25812": {
      "model_module": "@jupyter-widgets/controls",
      "model_module_version": "1.5.0",
      "model_name": "DescriptionStyleModel",
      "state": {
       "_model_module": "@jupyter-widgets/controls",
       "_model_module_version": "1.5.0",
       "_model_name": "DescriptionStyleModel",
       "_view_count": null,
       "_view_module": "@jupyter-widgets/base",
       "_view_module_version": "1.2.0",
       "_view_name": "StyleView",
       "description_width": ""
      }
     },
     "67987d5058ab45fd86ff01250749bf67": {
      "model_module": "@jupyter-widgets/base",
      "model_module_version": "1.2.0",
      "model_name": "LayoutModel",
      "state": {
       "_model_module": "@jupyter-widgets/base",
       "_model_module_version": "1.2.0",
       "_model_name": "LayoutModel",
       "_view_count": null,
       "_view_module": "@jupyter-widgets/base",
       "_view_module_version": "1.2.0",
       "_view_name": "LayoutView",
       "align_content": null,
       "align_items": null,
       "align_self": null,
       "border": null,
       "bottom": null,
       "display": null,
       "flex": null,
       "flex_flow": null,
       "grid_area": null,
       "grid_auto_columns": null,
       "grid_auto_flow": null,
       "grid_auto_rows": null,
       "grid_column": null,
       "grid_gap": null,
       "grid_row": null,
       "grid_template_areas": null,
       "grid_template_columns": null,
       "grid_template_rows": null,
       "height": null,
       "justify_content": null,
       "justify_items": null,
       "left": null,
       "margin": null,
       "max_height": null,
       "max_width": null,
       "min_height": null,
       "min_width": null,
       "object_fit": null,
       "object_position": null,
       "order": null,
       "overflow": null,
       "overflow_x": null,
       "overflow_y": null,
       "padding": null,
       "right": null,
       "top": null,
       "visibility": null,
       "width": null
      }
     },
     "6d523f3649ed44829c0ed187f0e1305c": {
      "model_module": "@jupyter-widgets/controls",
      "model_module_version": "1.5.0",
      "model_name": "FloatProgressModel",
      "state": {
       "_dom_classes": [],
       "_model_module": "@jupyter-widgets/controls",
       "_model_module_version": "1.5.0",
       "_model_name": "FloatProgressModel",
       "_view_count": null,
       "_view_module": "@jupyter-widgets/controls",
       "_view_module_version": "1.5.0",
       "_view_name": "ProgressView",
       "bar_style": "success",
       "description": "",
       "description_tooltip": null,
       "layout": "IPY_MODEL_67987d5058ab45fd86ff01250749bf67",
       "max": 456318.0,
       "min": 0.0,
       "orientation": "horizontal",
       "style": "IPY_MODEL_7be293b0e14047c3810b07ce9aa712e3",
       "value": 456318.0
      }
     },
     "71c7a24e22914c588f62ff178949cb0e": {
      "model_module": "@jupyter-widgets/base",
      "model_module_version": "1.2.0",
      "model_name": "LayoutModel",
      "state": {
       "_model_module": "@jupyter-widgets/base",
       "_model_module_version": "1.2.0",
       "_model_name": "LayoutModel",
       "_view_count": null,
       "_view_module": "@jupyter-widgets/base",
       "_view_module_version": "1.2.0",
       "_view_name": "LayoutView",
       "align_content": null,
       "align_items": null,
       "align_self": null,
       "border": null,
       "bottom": null,
       "display": null,
       "flex": null,
       "flex_flow": null,
       "grid_area": null,
       "grid_auto_columns": null,
       "grid_auto_flow": null,
       "grid_auto_rows": null,
       "grid_column": null,
       "grid_gap": null,
       "grid_row": null,
       "grid_template_areas": null,
       "grid_template_columns": null,
       "grid_template_rows": null,
       "height": null,
       "justify_content": null,
       "justify_items": null,
       "left": null,
       "margin": null,
       "max_height": null,
       "max_width": null,
       "min_height": null,
       "min_width": null,
       "object_fit": null,
       "object_position": null,
       "order": null,
       "overflow": null,
       "overflow_x": null,
       "overflow_y": null,
       "padding": null,
       "right": null,
       "top": null,
       "visibility": null,
       "width": null
      }
     },
     "739447fbf3af4608a8a965e6a5087062": {
      "model_module": "@jupyter-widgets/controls",
      "model_module_version": "1.5.0",
      "model_name": "HTMLModel",
      "state": {
       "_dom_classes": [],
       "_model_module": "@jupyter-widgets/controls",
       "_model_module_version": "1.5.0",
       "_model_name": "HTMLModel",
       "_view_count": null,
       "_view_module": "@jupyter-widgets/controls",
       "_view_module_version": "1.5.0",
       "_view_name": "HTMLView",
       "description": "",
       "description_tooltip": null,
       "layout": "IPY_MODEL_a0ffdd7c388340c7861974339edb97e2",
       "placeholder": "​",
       "style": "IPY_MODEL_dd18109b4849439180ee33b02e0ed385",
       "value": " 478M/478M [00:10&lt;00:00, 49.9MB/s]"
      }
     },
     "7543dccf91754b02886b90ed5b6d6a1f": {
      "model_module": "@jupyter-widgets/controls",
      "model_module_version": "1.5.0",
      "model_name": "HTMLModel",
      "state": {
       "_dom_classes": [],
       "_model_module": "@jupyter-widgets/controls",
       "_model_module_version": "1.5.0",
       "_model_name": "HTMLModel",
       "_view_count": null,
       "_view_module": "@jupyter-widgets/controls",
       "_view_module_version": "1.5.0",
       "_view_name": "HTMLView",
       "description": "",
       "description_tooltip": null,
       "layout": "IPY_MODEL_835cd22c3ed5484688d6e0490161a43e",
       "placeholder": "​",
       "style": "IPY_MODEL_f167c1d2cab24735b150d11dea98444c",
       "value": "Downloading: 100%"
      }
     },
     "7be293b0e14047c3810b07ce9aa712e3": {
      "model_module": "@jupyter-widgets/controls",
      "model_module_version": "1.5.0",
      "model_name": "ProgressStyleModel",
      "state": {
       "_model_module": "@jupyter-widgets/controls",
       "_model_module_version": "1.5.0",
       "_model_name": "ProgressStyleModel",
       "_view_count": null,
       "_view_module": "@jupyter-widgets/base",
       "_view_module_version": "1.2.0",
       "_view_name": "StyleView",
       "bar_color": null,
       "description_width": ""
      }
     },
     "835cd22c3ed5484688d6e0490161a43e": {
      "model_module": "@jupyter-widgets/base",
      "model_module_version": "1.2.0",
      "model_name": "LayoutModel",
      "state": {
       "_model_module": "@jupyter-widgets/base",
       "_model_module_version": "1.2.0",
       "_model_name": "LayoutModel",
       "_view_count": null,
       "_view_module": "@jupyter-widgets/base",
       "_view_module_version": "1.2.0",
       "_view_name": "LayoutView",
       "align_content": null,
       "align_items": null,
       "align_self": null,
       "border": null,
       "bottom": null,
       "display": null,
       "flex": null,
       "flex_flow": null,
       "grid_area": null,
       "grid_auto_columns": null,
       "grid_auto_flow": null,
       "grid_auto_rows": null,
       "grid_column": null,
       "grid_gap": null,
       "grid_row": null,
       "grid_template_areas": null,
       "grid_template_columns": null,
       "grid_template_rows": null,
       "height": null,
       "justify_content": null,
       "justify_items": null,
       "left": null,
       "margin": null,
       "max_height": null,
       "max_width": null,
       "min_height": null,
       "min_width": null,
       "object_fit": null,
       "object_position": null,
       "order": null,
       "overflow": null,
       "overflow_x": null,
       "overflow_y": null,
       "padding": null,
       "right": null,
       "top": null,
       "visibility": null,
       "width": null
      }
     },
     "86473801868240459fe4781eb23cce71": {
      "model_module": "@jupyter-widgets/controls",
      "model_module_version": "1.5.0",
      "model_name": "DescriptionStyleModel",
      "state": {
       "_model_module": "@jupyter-widgets/controls",
       "_model_module_version": "1.5.0",
       "_model_name": "DescriptionStyleModel",
       "_view_count": null,
       "_view_module": "@jupyter-widgets/base",
       "_view_module_version": "1.2.0",
       "_view_name": "StyleView",
       "description_width": ""
      }
     },
     "88d4b8b24d7143e5bdcb7e0d7a23c902": {
      "model_module": "@jupyter-widgets/base",
      "model_module_version": "1.2.0",
      "model_name": "LayoutModel",
      "state": {
       "_model_module": "@jupyter-widgets/base",
       "_model_module_version": "1.2.0",
       "_model_name": "LayoutModel",
       "_view_count": null,
       "_view_module": "@jupyter-widgets/base",
       "_view_module_version": "1.2.0",
       "_view_name": "LayoutView",
       "align_content": null,
       "align_items": null,
       "align_self": null,
       "border": null,
       "bottom": null,
       "display": null,
       "flex": null,
       "flex_flow": null,
       "grid_area": null,
       "grid_auto_columns": null,
       "grid_auto_flow": null,
       "grid_auto_rows": null,
       "grid_column": null,
       "grid_gap": null,
       "grid_row": null,
       "grid_template_areas": null,
       "grid_template_columns": null,
       "grid_template_rows": null,
       "height": null,
       "justify_content": null,
       "justify_items": null,
       "left": null,
       "margin": null,
       "max_height": null,
       "max_width": null,
       "min_height": null,
       "min_width": null,
       "object_fit": null,
       "object_position": null,
       "order": null,
       "overflow": null,
       "overflow_x": null,
       "overflow_y": null,
       "padding": null,
       "right": null,
       "top": null,
       "visibility": null,
       "width": null
      }
     },
     "9df13e64fa154370834285344a308b04": {
      "model_module": "@jupyter-widgets/controls",
      "model_module_version": "1.5.0",
      "model_name": "DescriptionStyleModel",
      "state": {
       "_model_module": "@jupyter-widgets/controls",
       "_model_module_version": "1.5.0",
       "_model_name": "DescriptionStyleModel",
       "_view_count": null,
       "_view_module": "@jupyter-widgets/base",
       "_view_module_version": "1.2.0",
       "_view_name": "StyleView",
       "description_width": ""
      }
     },
     "a0ffdd7c388340c7861974339edb97e2": {
      "model_module": "@jupyter-widgets/base",
      "model_module_version": "1.2.0",
      "model_name": "LayoutModel",
      "state": {
       "_model_module": "@jupyter-widgets/base",
       "_model_module_version": "1.2.0",
       "_model_name": "LayoutModel",
       "_view_count": null,
       "_view_module": "@jupyter-widgets/base",
       "_view_module_version": "1.2.0",
       "_view_name": "LayoutView",
       "align_content": null,
       "align_items": null,
       "align_self": null,
       "border": null,
       "bottom": null,
       "display": null,
       "flex": null,
       "flex_flow": null,
       "grid_area": null,
       "grid_auto_columns": null,
       "grid_auto_flow": null,
       "grid_auto_rows": null,
       "grid_column": null,
       "grid_gap": null,
       "grid_row": null,
       "grid_template_areas": null,
       "grid_template_columns": null,
       "grid_template_rows": null,
       "height": null,
       "justify_content": null,
       "justify_items": null,
       "left": null,
       "margin": null,
       "max_height": null,
       "max_width": null,
       "min_height": null,
       "min_width": null,
       "object_fit": null,
       "object_position": null,
       "order": null,
       "overflow": null,
       "overflow_x": null,
       "overflow_y": null,
       "padding": null,
       "right": null,
       "top": null,
       "visibility": null,
       "width": null
      }
     },
     "a2fdf0b072694a13abf7f1b9798a986b": {
      "model_module": "@jupyter-widgets/controls",
      "model_module_version": "1.5.0",
      "model_name": "HTMLModel",
      "state": {
       "_dom_classes": [],
       "_model_module": "@jupyter-widgets/controls",
       "_model_module_version": "1.5.0",
       "_model_name": "HTMLModel",
       "_view_count": null,
       "_view_module": "@jupyter-widgets/controls",
       "_view_module_version": "1.5.0",
       "_view_name": "HTMLView",
       "description": "",
       "description_tooltip": null,
       "layout": "IPY_MODEL_328085ac39f64560bab4f84246b6e01b",
       "placeholder": "​",
       "style": "IPY_MODEL_17655f2ed9cf47edb669964394322bd3",
       "value": " 446k/446k [00:00&lt;00:00, 873kB/s]"
      }
     },
     "ade2fe55a0f84551a96afd13de7d8c3f": {
      "model_module": "@jupyter-widgets/controls",
      "model_module_version": "1.5.0",
      "model_name": "HTMLModel",
      "state": {
       "_dom_classes": [],
       "_model_module": "@jupyter-widgets/controls",
       "_model_module_version": "1.5.0",
       "_model_name": "HTMLModel",
       "_view_count": null,
       "_view_module": "@jupyter-widgets/controls",
       "_view_module_version": "1.5.0",
       "_view_name": "HTMLView",
       "description": "",
       "description_tooltip": null,
       "layout": "IPY_MODEL_61f2a7ad2e974bc591d5103daae1c4b9",
       "placeholder": "​",
       "style": "IPY_MODEL_9df13e64fa154370834285344a308b04",
       "value": "Downloading: 100%"
      }
     },
     "bb3346f1c7614e66bb44c13d11471da1": {
      "model_module": "@jupyter-widgets/base",
      "model_module_version": "1.2.0",
      "model_name": "LayoutModel",
      "state": {
       "_model_module": "@jupyter-widgets/base",
       "_model_module_version": "1.2.0",
       "_model_name": "LayoutModel",
       "_view_count": null,
       "_view_module": "@jupyter-widgets/base",
       "_view_module_version": "1.2.0",
       "_view_name": "LayoutView",
       "align_content": null,
       "align_items": null,
       "align_self": null,
       "border": null,
       "bottom": null,
       "display": null,
       "flex": null,
       "flex_flow": null,
       "grid_area": null,
       "grid_auto_columns": null,
       "grid_auto_flow": null,
       "grid_auto_rows": null,
       "grid_column": null,
       "grid_gap": null,
       "grid_row": null,
       "grid_template_areas": null,
       "grid_template_columns": null,
       "grid_template_rows": null,
       "height": null,
       "justify_content": null,
       "justify_items": null,
       "left": null,
       "margin": null,
       "max_height": null,
       "max_width": null,
       "min_height": null,
       "min_width": null,
       "object_fit": null,
       "object_position": null,
       "order": null,
       "overflow": null,
       "overflow_x": null,
       "overflow_y": null,
       "padding": null,
       "right": null,
       "top": null,
       "visibility": null,
       "width": null
      }
     },
     "c8c663f5ea20456faca999388d9c11cd": {
      "model_module": "@jupyter-widgets/controls",
      "model_module_version": "1.5.0",
      "model_name": "HBoxModel",
      "state": {
       "_dom_classes": [],
       "_model_module": "@jupyter-widgets/controls",
       "_model_module_version": "1.5.0",
       "_model_name": "HBoxModel",
       "_view_count": null,
       "_view_module": "@jupyter-widgets/controls",
       "_view_module_version": "1.5.0",
       "_view_name": "HBoxView",
       "box_style": "",
       "children": [
        "IPY_MODEL_7543dccf91754b02886b90ed5b6d6a1f",
        "IPY_MODEL_6d523f3649ed44829c0ed187f0e1305c",
        "IPY_MODEL_a2fdf0b072694a13abf7f1b9798a986b"
       ],
       "layout": "IPY_MODEL_649b1a56012a45e0a72e0ee1930433ad"
      }
     },
     "cd799a8dab6d40be9b7be739d2ce0d79": {
      "model_module": "@jupyter-widgets/controls",
      "model_module_version": "1.5.0",
      "model_name": "DescriptionStyleModel",
      "state": {
       "_model_module": "@jupyter-widgets/controls",
       "_model_module_version": "1.5.0",
       "_model_name": "DescriptionStyleModel",
       "_view_count": null,
       "_view_module": "@jupyter-widgets/base",
       "_view_module_version": "1.2.0",
       "_view_name": "StyleView",
       "description_width": ""
      }
     },
     "cded2e1452ad4d359e84887e139e4852": {
      "model_module": "@jupyter-widgets/controls",
      "model_module_version": "1.5.0",
      "model_name": "HBoxModel",
      "state": {
       "_dom_classes": [],
       "_model_module": "@jupyter-widgets/controls",
       "_model_module_version": "1.5.0",
       "_model_name": "HBoxModel",
       "_view_count": null,
       "_view_module": "@jupyter-widgets/controls",
       "_view_module_version": "1.5.0",
       "_view_name": "HBoxView",
       "box_style": "",
       "children": [
        "IPY_MODEL_ade2fe55a0f84551a96afd13de7d8c3f",
        "IPY_MODEL_32dc52397ca6435eb990cb33b268efc5",
        "IPY_MODEL_739447fbf3af4608a8a965e6a5087062"
       ],
       "layout": "IPY_MODEL_d012827c0c3540259d1b0f458b26f3ea"
      }
     },
     "d012827c0c3540259d1b0f458b26f3ea": {
      "model_module": "@jupyter-widgets/base",
      "model_module_version": "1.2.0",
      "model_name": "LayoutModel",
      "state": {
       "_model_module": "@jupyter-widgets/base",
       "_model_module_version": "1.2.0",
       "_model_name": "LayoutModel",
       "_view_count": null,
       "_view_module": "@jupyter-widgets/base",
       "_view_module_version": "1.2.0",
       "_view_name": "LayoutView",
       "align_content": null,
       "align_items": null,
       "align_self": null,
       "border": null,
       "bottom": null,
       "display": null,
       "flex": null,
       "flex_flow": null,
       "grid_area": null,
       "grid_auto_columns": null,
       "grid_auto_flow": null,
       "grid_auto_rows": null,
       "grid_column": null,
       "grid_gap": null,
       "grid_row": null,
       "grid_template_areas": null,
       "grid_template_columns": null,
       "grid_template_rows": null,
       "height": null,
       "justify_content": null,
       "justify_items": null,
       "left": null,
       "margin": null,
       "max_height": null,
       "max_width": null,
       "min_height": null,
       "min_width": null,
       "object_fit": null,
       "object_position": null,
       "order": null,
       "overflow": null,
       "overflow_x": null,
       "overflow_y": null,
       "padding": null,
       "right": null,
       "top": null,
       "visibility": null,
       "width": null
      }
     },
     "d07a20835eac4f619961b8844ea68b61": {
      "model_module": "@jupyter-widgets/base",
      "model_module_version": "1.2.0",
      "model_name": "LayoutModel",
      "state": {
       "_model_module": "@jupyter-widgets/base",
       "_model_module_version": "1.2.0",
       "_model_name": "LayoutModel",
       "_view_count": null,
       "_view_module": "@jupyter-widgets/base",
       "_view_module_version": "1.2.0",
       "_view_name": "LayoutView",
       "align_content": null,
       "align_items": null,
       "align_self": null,
       "border": null,
       "bottom": null,
       "display": null,
       "flex": null,
       "flex_flow": null,
       "grid_area": null,
       "grid_auto_columns": null,
       "grid_auto_flow": null,
       "grid_auto_rows": null,
       "grid_column": null,
       "grid_gap": null,
       "grid_row": null,
       "grid_template_areas": null,
       "grid_template_columns": null,
       "grid_template_rows": null,
       "height": null,
       "justify_content": null,
       "justify_items": null,
       "left": null,
       "margin": null,
       "max_height": null,
       "max_width": null,
       "min_height": null,
       "min_width": null,
       "object_fit": null,
       "object_position": null,
       "order": null,
       "overflow": null,
       "overflow_x": null,
       "overflow_y": null,
       "padding": null,
       "right": null,
       "top": null,
       "visibility": null,
       "width": null
      }
     },
     "dd18109b4849439180ee33b02e0ed385": {
      "model_module": "@jupyter-widgets/controls",
      "model_module_version": "1.5.0",
      "model_name": "DescriptionStyleModel",
      "state": {
       "_model_module": "@jupyter-widgets/controls",
       "_model_module_version": "1.5.0",
       "_model_name": "DescriptionStyleModel",
       "_view_count": null,
       "_view_module": "@jupyter-widgets/base",
       "_view_module_version": "1.2.0",
       "_view_name": "StyleView",
       "description_width": ""
      }
     },
     "e6e338d693f54029bed12b5c1f80e01e": {
      "model_module": "@jupyter-widgets/controls",
      "model_module_version": "1.5.0",
      "model_name": "ProgressStyleModel",
      "state": {
       "_model_module": "@jupyter-widgets/controls",
       "_model_module_version": "1.5.0",
       "_model_name": "ProgressStyleModel",
       "_view_count": null,
       "_view_module": "@jupyter-widgets/base",
       "_view_module_version": "1.2.0",
       "_view_name": "StyleView",
       "bar_color": null,
       "description_width": ""
      }
     },
     "ec46d3c2fd30438aa4b4e859a4225533": {
      "model_module": "@jupyter-widgets/controls",
      "model_module_version": "1.5.0",
      "model_name": "FloatProgressModel",
      "state": {
       "_dom_classes": [],
       "_model_module": "@jupyter-widgets/controls",
       "_model_module_version": "1.5.0",
       "_model_name": "FloatProgressModel",
       "_view_count": null,
       "_view_module": "@jupyter-widgets/controls",
       "_view_module_version": "1.5.0",
       "_view_name": "ProgressView",
       "bar_style": "success",
       "description": "",
       "description_tooltip": null,
       "layout": "IPY_MODEL_0c98ce90b68e48108540973fbb0c73bb",
       "max": 481.0,
       "min": 0.0,
       "orientation": "horizontal",
       "style": "IPY_MODEL_e6e338d693f54029bed12b5c1f80e01e",
       "value": 481.0
      }
     },
     "f167c1d2cab24735b150d11dea98444c": {
      "model_module": "@jupyter-widgets/controls",
      "model_module_version": "1.5.0",
      "model_name": "DescriptionStyleModel",
      "state": {
       "_model_module": "@jupyter-widgets/controls",
       "_model_module_version": "1.5.0",
       "_model_name": "DescriptionStyleModel",
       "_view_count": null,
       "_view_module": "@jupyter-widgets/base",
       "_view_module_version": "1.2.0",
       "_view_name": "StyleView",
       "description_width": ""
      }
     },
     "ff1223bc506f417e877f76a2bc5e0593": {
      "model_module": "@jupyter-widgets/base",
      "model_module_version": "1.2.0",
      "model_name": "LayoutModel",
      "state": {
       "_model_module": "@jupyter-widgets/base",
       "_model_module_version": "1.2.0",
       "_model_name": "LayoutModel",
       "_view_count": null,
       "_view_module": "@jupyter-widgets/base",
       "_view_module_version": "1.2.0",
       "_view_name": "LayoutView",
       "align_content": null,
       "align_items": null,
       "align_self": null,
       "border": null,
       "bottom": null,
       "display": null,
       "flex": null,
       "flex_flow": null,
       "grid_area": null,
       "grid_auto_columns": null,
       "grid_auto_flow": null,
       "grid_auto_rows": null,
       "grid_column": null,
       "grid_gap": null,
       "grid_row": null,
       "grid_template_areas": null,
       "grid_template_columns": null,
       "grid_template_rows": null,
       "height": null,
       "justify_content": null,
       "justify_items": null,
       "left": null,
       "margin": null,
       "max_height": null,
       "max_width": null,
       "min_height": null,
       "min_width": null,
       "object_fit": null,
       "object_position": null,
       "order": null,
       "overflow": null,
       "overflow_x": null,
       "overflow_y": null,
       "padding": null,
       "right": null,
       "top": null,
       "visibility": null,
       "width": null
      }
     }
    },
    "version_major": 2,
    "version_minor": 0
   }
  }
 },
 "nbformat": 4,
 "nbformat_minor": 5
}
